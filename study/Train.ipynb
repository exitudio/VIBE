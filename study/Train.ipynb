{
 "cells": [
  {
   "cell_type": "code",
   "execution_count": 2,
   "id": "ed3e1eaa",
   "metadata": {},
   "outputs": [],
   "source": [
    "%reload_ext autoreload\n",
    "%autoreload 2\n",
    "import sys\n",
    "sys.path.append('../')\n",
    "from lib.models.vibe import VIBE_Demo, VIBE_Demo\n",
    "import torch\n",
    "import numpy as np\n",
    "from torch.utils.data import Dataset, DataLoader\n",
    "from torchvision.io import read_image\n",
    "from lib.utils.demo_utils import download_ckpt"
   ]
  },
  {
   "cell_type": "code",
   "execution_count": 3,
   "id": "fff89df5",
   "metadata": {},
   "outputs": [],
   "source": [
    "class VideoSilhouetteDataset(Dataset):\n",
    "    def __init__(self, transform=None, target_transform=None):\n",
    "        PATH = '/home/epinyoan/dataset/casia-b/dataset_b/all/silhouette_paths_320.npy'\n",
    "        self.silhouette_paths = np.load(PATH)\n",
    "        self.transform = transform\n",
    "        self.target_transform = target_transform\n",
    "\n",
    "    def __len__(self):\n",
    "        return len(self.silhouette_paths)\n",
    "\n",
    "    def __getitem__(self, idx):\n",
    "        s_image = read_image(self.silhouette_paths[idx])\n",
    "        file = self.silhouette_paths[idx].split('/')[-1].split('.')[0].split('-')\n",
    "        raw_path = '/home/epinyoan/dataset/casia-b/dataset_b/all/images/'+'-'.join(file[:4])+'/'+file[4].zfill(6)+'.png'\n",
    "        raw_image = read_image(raw_path).float()\n",
    "        return raw_image, s_image"
   ]
  },
  {
   "cell_type": "code",
   "execution_count": 4,
   "id": "637826d8",
   "metadata": {},
   "outputs": [
    {
     "name": "stdout",
     "output_type": "stream",
     "text": [
      "WARNING: You are using a SMPL model, with only 10 shape coefficients.\n",
      "WARNING: You are using a SMPL model, with only 10 shape coefficients.\n",
      "=> loaded pretrained model from '../data/vibe_data/spin_model_checkpoint.pth.tar'\n",
      "Performance of pretrained model on 3DPW: 52.00081691145897\n"
     ]
    },
    {
     "data": {
      "text/plain": [
       "''"
      ]
     },
     "execution_count": 4,
     "metadata": {},
     "output_type": "execute_result"
    }
   ],
   "source": [
    "device = torch.device('cuda') if torch.cuda.is_available() else torch.device('cpu')\n",
    "model = VIBE_Demo(\n",
    "    seqlen=16,\n",
    "    n_layers=2,\n",
    "    hidden_size=1024,\n",
    "    add_linear=True,\n",
    "    use_residual=True,\n",
    "    pretrained='../data/vibe_data/spin_model_checkpoint.pth.tar'\n",
    ").to(device)\n",
    "\n",
    "pretrained_file = '../data/vibe_data/vibe_model_w_3dpw.pth.tar'\n",
    "ckpt = torch.load(pretrained_file)\n",
    "print(f'Performance of pretrained model on 3DPW: {ckpt[\"performance\"]}')\n",
    "ckpt = ckpt['gen_state_dict']\n",
    "model.load_state_dict(ckpt, strict=False)\n",
    "model.eval()\n",
    "''"
   ]
  },
  {
   "cell_type": "code",
   "execution_count": 5,
   "id": "d82a3074",
   "metadata": {},
   "outputs": [],
   "source": [
    "vs_dataset = VideoSilhouetteDataset()\n",
    "train_loader = DataLoader(vs_dataset, batch_size=64,\n",
    "                                  num_workers=1, pin_memory=True, shuffle=True)"
   ]
  },
  {
   "cell_type": "code",
   "execution_count": 12,
   "id": "ed0764f9",
   "metadata": {
    "scrolled": false
   },
   "outputs": [
    {
     "name": "stdout",
     "output_type": "stream",
     "text": [
      "torch.Size([64, 3, 224, 224])\n",
      "dict_keys(['theta', 'verts', 'kp_2d', 'kp_3d'])\n"
     ]
    }
   ],
   "source": [
    "raw_image, s_image = next(iter(train_loader))\n",
    "raw_image, s_image = raw_image.to(device), s_image.to(device)\n",
    "raw_image = raw_image[:,:,:224,:224]\n",
    "\n",
    "# hmr\n",
    "print(raw_image.shape)\n",
    "# feature = model.hmr.feature_extractor(raw_image)\n",
    "output = model.hmr(raw_image)\n",
    "print(output[0].keys())\n",
    "\n",
    "# vibe\n",
    "# raw_image = torch.unsqueeze(raw_image, 1)\n",
    "# print(raw_image.shape)\n",
    "# feature = model(raw_image)\n",
    "# print(raw_image.shape)\n"
   ]
  },
  {
   "cell_type": "code",
   "execution_count": null,
   "id": "76977807",
   "metadata": {},
   "outputs": [],
   "source": []
  }
 ],
 "metadata": {
  "kernelspec": {
   "display_name": "vibe-env",
   "language": "python",
   "name": "vibe-env"
  },
  "language_info": {
   "codemirror_mode": {
    "name": "ipython",
    "version": 3
   },
   "file_extension": ".py",
   "mimetype": "text/x-python",
   "name": "python",
   "nbconvert_exporter": "python",
   "pygments_lexer": "ipython3",
   "version": "3.7.11"
  }
 },
 "nbformat": 4,
 "nbformat_minor": 5
}
