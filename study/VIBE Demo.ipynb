{
 "cells": [
  {
   "cell_type": "code",
   "execution_count": 1,
   "metadata": {},
   "outputs": [],
   "source": [
    "%reload_ext autoreload\n",
    "%autoreload 2\n",
    "import sys\n",
    "sys.path.append('../')\n",
    "import os\n",
    "os.environ['PYOPENGL_PLATFORM'] = 'egl'\n",
    "\n",
    "import cv2\n",
    "import time\n",
    "import torch\n",
    "import joblib\n",
    "import shutil\n",
    "import colorsys\n",
    "import argparse\n",
    "import numpy as np\n",
    "from tqdm import tqdm\n",
    "from multi_person_tracker import MPT\n",
    "from torch.utils.data import DataLoader\n",
    "\n",
    "from lib.models.vibe import VIBE_Demo\n",
    "from lib.utils.renderer import Renderer\n",
    "from lib.dataset.inference import Inference\n",
    "from lib.utils.smooth_pose import smooth_pose\n",
    "from lib.data_utils.kp_utils import convert_kps\n",
    "from lib.utils.pose_tracker import run_posetracker\n",
    "\n",
    "from lib.utils.demo_utils import (\n",
    "    download_youtube_clip,\n",
    "    smplify_runner,\n",
    "    convert_crop_coords_to_orig_img,\n",
    "    convert_crop_cam_to_orig_img,\n",
    "    prepare_rendering_results,\n",
    "    video_to_images,\n",
    "    images_to_video,\n",
    "    download_ckpt,\n",
    ")\n",
    "\n",
    "import matplotlib.pyplot as plt\n",
    "import ml_collections\n",
    "MIN_NUM_FRAMES = 25"
   ]
  },
  {
   "cell_type": "markdown",
   "metadata": {},
   "source": [
    "### Todo\n",
    "1. args.tracking_method == 'pose'<br>\n",
    "2. download_ckpt(use_3dpw=True)"
   ]
  },
  {
   "cell_type": "code",
   "execution_count": 2,
   "metadata": {},
   "outputs": [],
   "source": [
    "args = ml_collections.ConfigDict()\n",
    "args.tracker_batch_size = 12\n",
    "args.display = False # need to be false for jupyter\n",
    "args.detector = 'yolo'\n",
    "args.yolo_img_size = 416\n",
    "args.tracking_method = 'bbox'\n",
    "args.vibe_batch_size = 450\n",
    "args.wireframe = False\n",
    "\n",
    "\n",
    "# for args.tracking_method == 'pose'\n",
    "# staf_dir = '/home/mkocabas/developments/openposetrack'"
   ]
  },
  {
   "cell_type": "code",
   "execution_count": 3,
   "metadata": {},
   "outputs": [
    {
     "name": "stdout",
     "output_type": "stream",
     "text": [
      "Running \"ffmpeg -i /home/epinyoan/dataset/casia-b/dataset_b/Datset-B-1/video/052-nm-03-144.avi -f image2 -v error ./output/sample_video/052-nm-03-144_avi/%06d.png\"\n",
      "Images saved to \"./output/sample_video/052-nm-03-144_avi\"\n",
      "Input video number of frames 101\n",
      "Running Multi-Person-Tracker\n"
     ]
    },
    {
     "name": "stderr",
     "output_type": "stream",
     "text": [
      "100%|█████████████████████████████████████████████████████████████████████████████████████| 9/9 [00:01<00:00,  5.02it/s]"
     ]
    },
    {
     "name": "stdout",
     "output_type": "stream",
     "text": [
      "Finished. Detection + Tracking FPS 56.18\n"
     ]
    },
    {
     "name": "stderr",
     "output_type": "stream",
     "text": [
      "\n"
     ]
    }
   ],
   "source": [
    "video_file = '/home/epinyoan/dataset/casia-b/dataset_b/Datset-B-1/video/052-nm-03-144.avi'\n",
    "device = torch.device('cuda') if torch.cuda.is_available() else torch.device('cpu')\n",
    "image_folder, num_frames, img_shape = video_to_images(video_file, return_info=True)\n",
    "print(f'Input video number of frames {num_frames}')\n",
    "orig_height, orig_width = img_shape[:2]\n",
    "total_time = time.time()\n",
    "\n",
    "bbox_scale = 1.1\n",
    "# run multi object tracker\n",
    "mot = MPT(\n",
    "    device=device,\n",
    "    batch_size=args.tracker_batch_size,\n",
    "    display=args.display,\n",
    "    detector_type=args.detector,\n",
    "    output_format='dict',\n",
    "    yolo_img_size=args.yolo_img_size,\n",
    ")\n",
    "tracking_results = mot(image_folder)"
   ]
  },
  {
   "cell_type": "code",
   "execution_count": 4,
   "metadata": {},
   "outputs": [
    {
     "name": "stdout",
     "output_type": "stream",
     "text": [
      "WARNING: You are using a SMPL model, with only 10 shape coefficients.\n",
      "WARNING: You are using a SMPL model, with only 10 shape coefficients.\n",
      "=> loaded pretrained model from 'data/vibe_data/spin_model_checkpoint.pth.tar'\n",
      "Performance of pretrained model on 3DPW: 52.00081691145897\n",
      "Loaded pretrained weights from \"data/vibe_data/vibe_model_w_3dpw.pth.tar\"\n"
     ]
    }
   ],
   "source": [
    "# remove tracklets if num_frames is less than MIN_NUM_FRAMES\n",
    "for person_id in list(tracking_results.keys()):\n",
    "    if tracking_results[person_id]['frames'].shape[0] < MIN_NUM_FRAMES:\n",
    "        del tracking_results[person_id]\n",
    "\n",
    "# ========= Define VIBE model ========= #\n",
    "model = VIBE_Demo(\n",
    "    seqlen=16,\n",
    "    n_layers=2,\n",
    "    hidden_size=1024,\n",
    "    add_linear=True,\n",
    "    use_residual=True,\n",
    ").to(device)\n",
    "\n",
    "# ========= Load pretrained weights ========= #\n",
    "pretrained_file = download_ckpt(use_3dpw=True)\n",
    "ckpt = torch.load(pretrained_file)\n",
    "print(f'Performance of pretrained model on 3DPW: {ckpt[\"performance\"]}')\n",
    "ckpt = ckpt['gen_state_dict']\n",
    "model.load_state_dict(ckpt, strict=False)\n",
    "model.eval()\n",
    "print(f'Loaded pretrained weights from \\\"{pretrained_file}\\\"')"
   ]
  },
  {
   "cell_type": "code",
   "execution_count": 5,
   "metadata": {},
   "outputs": [
    {
     "name": "stdout",
     "output_type": "stream",
     "text": [
      "Running VIBE on each tracklet...\n"
     ]
    },
    {
     "name": "stderr",
     "output_type": "stream",
     "text": [
      "100%|█████████████████████████████████████████████████████████████████████████████████████| 1/1 [00:01<00:00,  1.11s/it]\n"
     ]
    }
   ],
   "source": [
    "# ========= Run VIBE on each person ========= #\n",
    "print(f'Running VIBE on each tracklet...')\n",
    "vibe_time = time.time()\n",
    "vibe_results = {}\n",
    "for person_id in tqdm(list(tracking_results.keys())):\n",
    "    bboxes = joints2d = None\n",
    "\n",
    "    if args.tracking_method == 'bbox':\n",
    "        bboxes = tracking_results[person_id]['bbox']\n",
    "    elif args.tracking_method == 'pose':\n",
    "        joints2d = tracking_results[person_id]['joints2d']\n",
    "\n",
    "    frames = tracking_results[person_id]['frames']\n",
    "\n",
    "    dataset = Inference(\n",
    "        image_folder=image_folder,\n",
    "        frames=frames,\n",
    "        bboxes=bboxes,\n",
    "        joints2d=joints2d,\n",
    "        scale=bbox_scale,\n",
    "    )\n",
    "\n",
    "    bboxes = dataset.bboxes\n",
    "    frames = dataset.frames\n",
    "    has_keypoints = True if joints2d is not None else False\n",
    "\n",
    "    dataloader = DataLoader(dataset, batch_size=args.vibe_batch_size, num_workers=16)\n",
    "\n",
    "    with torch.no_grad():\n",
    "\n",
    "        pred_cam, pred_verts, pred_pose, pred_betas, pred_joints3d, smpl_joints2d, norm_joints2d = [], [], [], [], [], [], []\n",
    "\n",
    "        for batch in dataloader:\n",
    "            if has_keypoints:\n",
    "                batch, nj2d = batch\n",
    "                norm_joints2d.append(nj2d.numpy().reshape(-1, 21, 3))\n",
    "\n",
    "            batch = batch.unsqueeze(0)\n",
    "            batch = batch.to(device)\n",
    "\n",
    "            batch_size, seqlen = batch.shape[:2]\n",
    "            output = model(batch)[-1]\n",
    "\n",
    "            pred_cam.append(output['theta'][:, :, :3].reshape(batch_size * seqlen, -1))\n",
    "            pred_verts.append(output['verts'].reshape(batch_size * seqlen, -1, 3))\n",
    "            pred_pose.append(output['theta'][:,:,3:75].reshape(batch_size * seqlen, -1))\n",
    "            pred_betas.append(output['theta'][:, :,75:].reshape(batch_size * seqlen, -1))\n",
    "            pred_joints3d.append(output['kp_3d'].reshape(batch_size * seqlen, -1, 3))\n",
    "            smpl_joints2d.append(output['kp_2d'].reshape(batch_size * seqlen, -1, 2))\n",
    "\n",
    "\n",
    "        pred_cam = torch.cat(pred_cam, dim=0)\n",
    "        pred_verts = torch.cat(pred_verts, dim=0)\n",
    "        pred_pose = torch.cat(pred_pose, dim=0)\n",
    "        pred_betas = torch.cat(pred_betas, dim=0)\n",
    "        pred_joints3d = torch.cat(pred_joints3d, dim=0)\n",
    "        smpl_joints2d = torch.cat(smpl_joints2d, dim=0)\n",
    "        del batch\n",
    "\n",
    "        # ========= Save results to a pickle file ========= #\n",
    "        pred_cam = pred_cam.cpu().numpy()\n",
    "        pred_verts = pred_verts.cpu().numpy()\n",
    "        pred_pose = pred_pose.cpu().numpy()\n",
    "        pred_betas = pred_betas.cpu().numpy()\n",
    "        pred_joints3d = pred_joints3d.cpu().numpy()\n",
    "        smpl_joints2d = smpl_joints2d.cpu().numpy()\n",
    "\n",
    "        # Runs 1 Euro Filter to smooth out the results\n",
    "#         if args.smooth:\n",
    "#             min_cutoff = args.smooth_min_cutoff # 0.004\n",
    "#             beta = args.smooth_beta # 1.5\n",
    "#             print(f'Running smoothing on person {person_id}, min_cutoff: {min_cutoff}, beta: {beta}')\n",
    "#             pred_verts, pred_pose, pred_joints3d = smooth_pose(pred_pose, pred_betas,\n",
    "#                                                                min_cutoff=min_cutoff, beta=beta)\n",
    "\n",
    "        orig_cam = convert_crop_cam_to_orig_img(\n",
    "            cam=pred_cam,\n",
    "            bbox=bboxes,\n",
    "            img_width=orig_width,\n",
    "            img_height=orig_height\n",
    "        )\n",
    "\n",
    "        joints2d_img_coord = convert_crop_coords_to_orig_img(\n",
    "            bbox=bboxes,\n",
    "            keypoints=smpl_joints2d,\n",
    "            crop_size=224,\n",
    "        )\n",
    "\n",
    "        output_dict = {\n",
    "            'pred_cam': pred_cam,\n",
    "            'orig_cam': orig_cam,\n",
    "            'verts': pred_verts,\n",
    "            'pose': pred_pose,\n",
    "            'betas': pred_betas,\n",
    "            'joints3d': pred_joints3d,\n",
    "            'joints2d': joints2d,\n",
    "            'joints2d_img_coord': joints2d_img_coord,\n",
    "            'bboxes': bboxes,\n",
    "            'frame_ids': frames,\n",
    "        }\n",
    "\n",
    "        vibe_results[person_id] = output_dict"
   ]
  },
  {
   "cell_type": "code",
   "execution_count": 6,
   "metadata": {},
   "outputs": [
    {
     "name": "stdout",
     "output_type": "stream",
     "text": [
      "WARNING: You are using a SMPL model, with only 10 shape coefficients.\n"
     ]
    },
    {
     "name": "stderr",
     "output_type": "stream",
     "text": [
      " 31%|████████████████████████▊                                                        | 31/101 [00:00<00:00, 189.90it/s]"
     ]
    },
    {
     "name": "stdout",
     "output_type": "stream",
     "text": [
      "(240, 320, 3)\n",
      "(240, 320, 3)\n",
      "(240, 320, 3)\n",
      "(240, 320, 3)\n",
      "(240, 320, 3)\n",
      "(240, 320, 3)\n",
      "(240, 320, 3)\n",
      "(240, 320, 3)\n",
      "(240, 320, 3)\n",
      "(240, 320, 3)\n",
      "(240, 320, 3)\n",
      "(240, 320, 3)\n",
      "(240, 320, 3)\n",
      "(240, 320, 3)\n",
      "(240, 320, 3)\n",
      "(240, 320, 3)\n",
      "(240, 320, 3)\n",
      "(240, 320, 3)\n",
      "(240, 320, 3)\n",
      "(240, 320, 3)\n",
      "(240, 320, 3)\n",
      "(240, 320, 3)\n",
      "(240, 320, 3)\n",
      "(240, 320, 3)\n",
      "(240, 320, 3)\n",
      "(240, 320, 3)\n",
      "(240, 320, 3)\n",
      "(240, 320, 3)\n",
      "(240, 320, 3)\n",
      "(240, 320, 3)\n",
      "(240, 320, 3)\n",
      "30\n",
      "(240, 320, 3)\n",
      "31\n",
      "(240, 320, 3)\n",
      "32\n",
      "(240, 320, 3)\n",
      "33\n",
      "(240, 320, 3)\n",
      "34\n",
      "(240, 320, 3)\n",
      "35\n",
      "(240, 320, 3)\n",
      "36\n",
      "(240, 320, 3)\n",
      "37\n",
      "(240, 320, 3)\n",
      "38\n",
      "(240, 320, 3)\n",
      "39\n",
      "(240, 320, 3)\n",
      "40\n",
      "(240, 320, 3)\n",
      "41\n"
     ]
    },
    {
     "name": "stderr",
     "output_type": "stream",
     "text": [
      "\r",
      " 50%|████████████████████████████████████████▌                                         | 50/101 [00:00<00:00, 76.38it/s]"
     ]
    },
    {
     "name": "stdout",
     "output_type": "stream",
     "text": [
      "(240, 320, 3)\n",
      "42\n",
      "(240, 320, 3)\n",
      "43\n",
      "(240, 320, 3)\n",
      "44\n",
      "(240, 320, 3)\n",
      "45\n",
      "(240, 320, 3)\n",
      "46\n",
      "(240, 320, 3)\n",
      "47\n",
      "(240, 320, 3)\n",
      "48\n",
      "(240, 320, 3)\n",
      "49\n",
      "(240, 320, 3)\n",
      "50\n",
      "(240, 320, 3)\n",
      "51\n"
     ]
    },
    {
     "name": "stderr",
     "output_type": "stream",
     "text": [
      "\r",
      " 60%|█████████████████████████████████████████████████▌                                | 61/101 [00:00<00:00, 62.15it/s]"
     ]
    },
    {
     "name": "stdout",
     "output_type": "stream",
     "text": [
      "(240, 320, 3)\n",
      "52\n",
      "(240, 320, 3)\n",
      "53\n",
      "(240, 320, 3)\n",
      "54\n",
      "(240, 320, 3)\n",
      "55\n",
      "(240, 320, 3)\n",
      "56\n",
      "(240, 320, 3)\n",
      "57\n",
      "(240, 320, 3)\n",
      "58\n",
      "(240, 320, 3)\n",
      "59\n",
      "(240, 320, 3)\n",
      "60\n",
      "(240, 320, 3)\n",
      "61\n"
     ]
    },
    {
     "name": "stderr",
     "output_type": "stream",
     "text": [
      "\r",
      " 68%|████████████████████████████████████████████████████████                          | 69/101 [00:01<00:00, 58.17it/s]"
     ]
    },
    {
     "name": "stdout",
     "output_type": "stream",
     "text": [
      "(240, 320, 3)\n",
      "62\n",
      "(240, 320, 3)\n",
      "63\n",
      "(240, 320, 3)\n",
      "64\n",
      "(240, 320, 3)\n",
      "65\n",
      "(240, 320, 3)\n",
      "66\n",
      "(240, 320, 3)\n",
      "67\n",
      "(240, 320, 3)\n",
      "68\n",
      "(240, 320, 3)\n",
      "69\n",
      "(240, 320, 3)\n",
      "70\n",
      "(240, 320, 3)\n",
      "71\n"
     ]
    },
    {
     "name": "stderr",
     "output_type": "stream",
     "text": [
      "\r",
      " 75%|█████████████████████████████████████████████████████████████▋                    | 76/101 [00:01<00:00, 55.02it/s]"
     ]
    },
    {
     "name": "stdout",
     "output_type": "stream",
     "text": [
      "(240, 320, 3)\n",
      "72\n",
      "(240, 320, 3)\n",
      "73\n",
      "(240, 320, 3)\n",
      "74\n",
      "(240, 320, 3)\n",
      "75\n",
      "(240, 320, 3)\n",
      "76\n",
      "(240, 320, 3)\n",
      "77\n",
      "(240, 320, 3)\n",
      "78\n",
      "(240, 320, 3)\n",
      "79\n",
      "(240, 320, 3)\n",
      "80\n",
      "(240, 320, 3)\n",
      "81\n"
     ]
    },
    {
     "name": "stderr",
     "output_type": "stream",
     "text": [
      " 87%|███████████████████████████████████████████████████████████████████████▍          | 88/101 [00:01<00:00, 51.84it/s]"
     ]
    },
    {
     "name": "stdout",
     "output_type": "stream",
     "text": [
      "(240, 320, 3)\n",
      "82\n",
      "(240, 320, 3)\n",
      "83\n",
      "(240, 320, 3)\n",
      "84\n",
      "(240, 320, 3)\n",
      "85\n",
      "(240, 320, 3)\n",
      "86\n",
      "(240, 320, 3)\n",
      "87\n",
      "(240, 320, 3)\n",
      "88\n",
      "(240, 320, 3)\n",
      "89\n",
      "(240, 320, 3)\n",
      "90\n",
      "(240, 320, 3)\n",
      "91\n"
     ]
    },
    {
     "name": "stderr",
     "output_type": "stream",
     "text": [
      " 99%|████████████████████████████████████████████████████████████████████████████████▏| 100/101 [00:01<00:00, 47.95it/s]"
     ]
    },
    {
     "name": "stdout",
     "output_type": "stream",
     "text": [
      "(240, 320, 3)\n",
      "92\n",
      "(240, 320, 3)\n",
      "93\n",
      "(240, 320, 3)\n",
      "94\n",
      "(240, 320, 3)\n",
      "95\n",
      "(240, 320, 3)\n",
      "96\n",
      "(240, 320, 3)\n",
      "97\n",
      "(240, 320, 3)\n",
      "98\n",
      "(240, 320, 3)\n",
      "99\n",
      "(240, 320, 3)\n",
      "100\n"
     ]
    },
    {
     "name": "stderr",
     "output_type": "stream",
     "text": [
      "100%|█████████████████████████████████████████████████████████████████████████████████| 101/101 [00:01<00:00, 58.96it/s]\n"
     ]
    }
   ],
   "source": [
    "# prepare results for rendering\n",
    "renderer = Renderer(resolution=(orig_width, orig_height), orig_img=True, wireframe=args.wireframe)\n",
    "frame_results = prepare_rendering_results(vibe_results, num_frames)\n",
    "mesh_color = {k: colorsys.hsv_to_rgb(np.random.rand(), 0.5, 1.0) for k in vibe_results.keys()}\n",
    "image_file_names = sorted([\n",
    "    os.path.join(image_folder, x)\n",
    "    for x in os.listdir(image_folder)\n",
    "    if x.endswith('.png') or x.endswith('.jpg')\n",
    "])\n",
    "for frame_idx in tqdm(range(len(image_file_names))):\n",
    "    img_fname = image_file_names[frame_idx]\n",
    "    img = cv2.imread(img_fname)\n",
    "    print(img.shape)\n",
    "    for person_id, person_data in frame_results[frame_idx].items():\n",
    "        print(frame_idx)\n",
    "        frame_verts = person_data['verts']\n",
    "        frame_cam = person_data['cam']\n",
    "        mc = mesh_color[person_id]\n",
    "        mesh_filename = None\n",
    "        img = renderer.render(\n",
    "            img,\n",
    "            frame_verts,\n",
    "            cam=frame_cam,\n",
    "            color=[1,0,0],\n",
    "            mesh_filename=mesh_filename,\n",
    "        )"
   ]
  },
  {
   "cell_type": "code",
   "execution_count": 8,
   "metadata": {},
   "outputs": [
    {
     "name": "stdout",
     "output_type": "stream",
     "text": [
      "(6890, 3) (13776, 3)\n"
     ]
    },
    {
     "name": "stderr",
     "output_type": "stream",
     "text": [
      "/home/epinyoan/miniconda3/envs/vibe-env/lib/python3.7/site-packages/ipykernel_launcher.py:11: DeprecationWarning: `np.int` is a deprecated alias for the builtin `int`. To silence this warning, use `int` by itself. Doing this will not modify any behavior and is safe. When replacing `np.int`, you may wish to use e.g. `np.int64` or `np.int32` to specify the precision. If you wish to review your current use, check the release note link for additional information.\n",
      "Deprecated in NumPy 1.20; for more details and guidance: https://numpy.org/devdocs/release/1.20.0-notes.html#deprecations\n",
      "  # This is added back by InteractiveShellApp.init_path()\n"
     ]
    },
    {
     "data": {
      "text/plain": [
       "<matplotlib.image.AxesImage at 0x7f1e8cc4ded0>"
      ]
     },
     "execution_count": 8,
     "metadata": {},
     "output_type": "execute_result"
    },
    {
     "data": {
      "image/png": "[encoded data removed]",
      "text/plain": [
       "<Figure size 432x288 with 1 Axes>"
      ]
     },
     "metadata": {
      "needs_background": "light"
     },
     "output_type": "display_data"
    }
   ],
   "source": [
    "# frame_cam_ = output['theta'][:, :, :3].reshape(batch_size * seqlen, -1)\n",
    "verts_ = output['verts'].reshape(batch_size * seqlen, -1, 3)\n",
    "img = renderer.render(\n",
    "    img,\n",
    "    verts_[20].cpu().numpy(),\n",
    "    cam=orig_cam[20],\n",
    "    color=[1,0,0],\n",
    "    mesh_filename=None,\n",
    ")\n",
    "\n",
    "plt.imshow(img.astype(np.int).squeeze(axis=2))"
   ]
  },
  {
   "cell_type": "code",
   "execution_count": null,
   "metadata": {},
   "outputs": [],
   "source": []
  }
 ],
 "metadata": {
  "kernelspec": {
   "display_name": "vibe-env",
   "language": "python",
   "name": "vibe-env"
  },
  "language_info": {
   "codemirror_mode": {
    "name": "ipython",
    "version": 3
   },
   "file_extension": ".py",
   "mimetype": "text/x-python",
   "name": "python",
   "nbconvert_exporter": "python",
   "pygments_lexer": "ipython3",
   "version": "3.7.11"
  }
 },
 "nbformat": 4,
 "nbformat_minor": 4
}
