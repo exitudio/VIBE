{
 "cells": [
  {
   "cell_type": "code",
   "execution_count": 6,
   "metadata": {},
   "outputs": [],
   "source": [
    "%reload_ext autoreload\n",
    "%autoreload 2\n",
    "import sys\n",
    "sys.path.append('../')\n",
    "import os\n",
    "os.environ['PYOPENGL_PLATFORM'] = 'egl'\n",
    "\n",
    "import cv2\n",
    "import time\n",
    "import torch\n",
    "import joblib\n",
    "import shutil\n",
    "import colorsys\n",
    "import argparse\n",
    "import numpy as np\n",
    "from tqdm import tqdm\n",
    "from multi_person_tracker import MPT\n",
    "from torch.utils.data import DataLoader\n",
    "\n",
    "from lib.models.vibe import VIBE_Demo\n",
    "from lib.utils.renderer import Renderer\n",
    "from lib.dataset.inference import Inference\n",
    "from lib.utils.smooth_pose import smooth_pose\n",
    "from lib.data_utils.kp_utils import convert_kps\n",
    "from lib.utils.pose_tracker import run_posetracker\n",
    "\n",
    "from lib.utils.demo_utils import (\n",
    "    download_youtube_clip,\n",
    "    smplify_runner,\n",
    "    convert_crop_coords_to_orig_img,\n",
    "    convert_crop_cam_to_orig_img,\n",
    "    prepare_rendering_results,\n",
    "    video_to_images,\n",
    "    images_to_video,\n",
    "    download_ckpt,\n",
    ")\n",
    "\n",
    "import matplotlib.pyplot as plt\n",
    "import ml_collections\n",
    "MIN_NUM_FRAMES = 25"
   ]
  },
  {
   "cell_type": "code",
   "execution_count": 7,
   "metadata": {},
   "outputs": [
    {
     "name": "stdout",
     "output_type": "stream",
     "text": [
      "Running \"ffmpeg -i /home/epinyoan/dataset/casia-b/dataset_b/Datset-B-1/video/052-nm-03-144.avi -f image2 -v error ./output/sample_video/052-nm-03-144_avi/%06d.png\"\n",
      "Images saved to \"./output/sample_video/052-nm-03-144_avi\"\n",
      "Input video number of frames 101\n"
     ]
    },
    {
     "name": "stderr",
     "output_type": "stream",
     "text": [
      " 11%|█         | 1/9 [00:00<00:01,  6.11it/s]"
     ]
    },
    {
     "name": "stdout",
     "output_type": "stream",
     "text": [
      "Running Multi-Person-Tracker\n"
     ]
    },
    {
     "name": "stderr",
     "output_type": "stream",
     "text": [
      "100%|██████████| 9/9 [00:01<00:00,  5.50it/s]\n"
     ]
    },
    {
     "name": "stdout",
     "output_type": "stream",
     "text": [
      "Finished. Detection + Tracking FPS 61.53\n",
      "WARNING: You are using a SMPL model, with only 10 shape coefficients.\n",
      "WARNING: You are using a SMPL model, with only 10 shape coefficients.\n",
      "=> loaded pretrained model from 'data/vibe_data/spin_model_checkpoint.pth.tar'\n",
      "Loaded pretrained weights from \"data/vibe_data/vibe_model_w_3dpw.pth.tar\"\n"
     ]
    }
   ],
   "source": [
    "video_file = '/home/epinyoan/dataset/casia-b/dataset_b/Datset-B-1/video/052-nm-03-144.avi'\n",
    "device = torch.device('cuda') if torch.cuda.is_available() else torch.device('cpu')\n",
    "image_folder, num_frames, img_shape = video_to_images(video_file, return_info=True)\n",
    "print(f'Input video number of frames {num_frames}')\n",
    "orig_height, orig_width = img_shape[:2]\n",
    "\n",
    "# run multi object tracker\n",
    "mot = MPT(\n",
    "    device=device,\n",
    "    batch_size=12,\n",
    "    display=False,\n",
    "    detector_type='yolo',\n",
    "    output_format='dict',\n",
    "    yolo_img_size=416,\n",
    ")\n",
    "tracking_results = mot(image_folder)\n",
    "# ========= Define VIBE model ========= #\n",
    "model = VIBE_Demo(\n",
    "    seqlen=16,\n",
    "    n_layers=2,\n",
    "    hidden_size=1024,\n",
    "    add_linear=True,\n",
    "    use_residual=True,\n",
    ").to(device)\n",
    "\n",
    "# ========= Load pretrained weights ========= #\n",
    "pretrained_file = download_ckpt(use_3dpw=True)\n",
    "ckpt = torch.load(pretrained_file)\n",
    "model.load_state_dict(ckpt['gen_state_dict'], strict=False)\n",
    "model.eval()\n",
    "print(f'Loaded pretrained weights from \\\"{pretrained_file}\\\"')"
   ]
  },
  {
   "cell_type": "code",
   "execution_count": 8,
   "metadata": {},
   "outputs": [],
   "source": [
    "person_id = list(tracking_results.keys())[0]\n",
    "bboxes = tracking_results[person_id]['bbox']\n",
    "frames = tracking_results[person_id]['frames']\n",
    "dataset = Inference(\n",
    "    image_folder=image_folder,\n",
    "    frames=frames,\n",
    "    bboxes=bboxes,\n",
    "    joints2d=None,\n",
    "    scale=1.1,\n",
    ")\n",
    "bboxes = dataset.bboxes\n",
    "frames = dataset.frames\n",
    "dataloader = DataLoader(dataset, batch_size=450, num_workers=16)\n",
    "with torch.no_grad():\n",
    "    for batch in dataloader:\n",
    "        batch = batch.unsqueeze(0)\n",
    "        batch = batch.to(device)\n",
    "        batch_size, seqlen = batch.shape[:2]\n",
    "        output = model(batch)[-1]"
   ]
  },
  {
   "cell_type": "code",
   "execution_count": 9,
   "metadata": {},
   "outputs": [],
   "source": [
    "pred_cam, pred_verts, pred_pose, pred_betas, pred_joints3d, smpl_joints2d, norm_joints2d = [], [], [], [], [], [], []\n",
    "pred_cam.append(output['theta'][:, :, :3].reshape(batch_size * seqlen, -1))\n",
    "pred_cam = torch.cat(pred_cam, dim=0)\n",
    "pred_cam = pred_cam.cpu().numpy()\n",
    "orig_cam = convert_crop_cam_to_orig_img(\n",
    "    cam=pred_cam,\n",
    "    bbox=bboxes,\n",
    "    img_width=orig_width,\n",
    "    img_height=orig_height\n",
    ")"
   ]
  },
  {
   "cell_type": "code",
   "execution_count": 10,
   "metadata": {},
   "outputs": [
    {
     "name": "stdout",
     "output_type": "stream",
     "text": [
      "WARNING: You are using a SMPL model, with only 10 shape coefficients.\n"
     ]
    },
    {
     "data": {
      "text/plain": [
       "<matplotlib.image.AxesImage at 0x7fbfaf9277f0>"
      ]
     },
     "execution_count": 10,
     "metadata": {},
     "output_type": "execute_result"
    },
    {
     "data": {
      "image/png": "[encoded data removed]",
      "text/plain": [
       "<Figure size 432x288 with 1 Axes>"
      ]
     },
     "metadata": {
      "needs_background": "light"
     },
     "output_type": "display_data"
    }
   ],
   "source": [
    "verts_ = output['verts'].reshape(batch_size * seqlen, -1, 3)\n",
    "renderer = Renderer(resolution=(orig_width, orig_height), orig_img=True, wireframe=False)\n",
    "img = renderer.render(\n",
    "    np.zeros((240, 320, 3)),\n",
    "    verts_[20].cpu().numpy(),\n",
    "    cam=orig_cam[20],\n",
    "    color=[1,0,0],\n",
    "    mesh_filename=None,\n",
    ")\n",
    "\n",
    "plt.imshow(img.astype(np.int).squeeze(axis=2))"
   ]
  },
  {
   "cell_type": "markdown",
   "metadata": {},
   "source": [
    "### Try to run DEODR with SMPL data [not working yet]"
   ]
  },
  {
   "cell_type": "code",
   "execution_count": 11,
   "metadata": {},
   "outputs": [],
   "source": [
    "depth_image = img.copy().astype(np.float)\n",
    "depth_image = depth_image.squeeze()\n",
    "temp = depth_image[:,100:].copy()\n",
    "depth_image[:,100:] = 0\n",
    "depth_image[:,:-100] = temp"
   ]
  },
  {
   "cell_type": "code",
   "execution_count": 12,
   "metadata": {},
   "outputs": [
    {
     "data": {
      "text/plain": [
       "'/home/epinyoan/.local/lib/python3.6/site-packages/deodr/__init__.py'"
      ]
     },
     "execution_count": 12,
     "metadata": {},
     "output_type": "execute_result"
    }
   ],
   "source": [
    "deodr.__file__"
   ]
  },
  {
   "cell_type": "code",
   "execution_count": 13,
   "metadata": {},
   "outputs": [],
   "source": [
    "import datetime\n",
    "import glob\n",
    "import json\n",
    "import os\n",
    "import time\n",
    "\n",
    "import cv2\n",
    "\n",
    "import deodr\n",
    "from deodr import ColoredTriMesh\n",
    "\n",
    "from imageio import imsave\n",
    "\n",
    "import matplotlib.pyplot as plt\n",
    "\n",
    "import numpy as np\n",
    "from deodr.pytorch import MeshDepthFitter\n",
    "from lib.models.smpl import get_smpl_faces"
   ]
  },
  {
   "cell_type": "code",
   "execution_count": 14,
   "metadata": {},
   "outputs": [
    {
     "name": "stdout",
     "output_type": "stream",
     "text": [
      "WARNING: You are using a SMPL model, with only 10 shape coefficients.\n"
     ]
    }
   ],
   "source": [
    "vertices = verts_[20].cpu().numpy().astype(np.double)\n",
    "faces = get_smpl_faces().astype(np.int32)\n",
    "euler_init = np.array([0.1, 0.1, 0.1])\n",
    "translation_init = np.zeros(3)\n",
    "\n",
    "hand_fitter = MeshDepthFitter(\n",
    "    vertices, faces, euler_init, translation_init, cregu=1000\n",
    ")\n",
    "hand_fitter.set_image(depth_image, focal=241, distortion=[1, 0, 0, 0, 0])\n",
    "hand_fitter.set_max_depth(1)\n",
    "hand_fitter.set_depth_scale(2)"
   ]
  },
  {
   "cell_type": "code",
   "execution_count": 17,
   "metadata": {},
   "outputs": [
    {
     "name": "stdout",
     "output_type": "stream",
     "text": [
      "Energy=73150.000000 : EData=73150.000000 E_rigid=-0.000000\n"
     ]
    },
    {
     "data": {
      "text/plain": [
       "(0.0, 1.0)"
      ]
     },
     "execution_count": 17,
     "metadata": {},
     "output_type": "execute_result"
    }
   ],
   "source": [
    "energy, synthetic_depth, diff_image = hand_fitter.step()\n",
    "diff_image.min(), diff_image.max()"
   ]
  },
  {
   "cell_type": "code",
   "execution_count": 18,
   "metadata": {},
   "outputs": [
    {
     "data": {
      "text/plain": [
       "<matplotlib.image.AxesImage at 0x7fbfaf7f3a90>"
      ]
     },
     "execution_count": 18,
     "metadata": {},
     "output_type": "execute_result"
    },
    {
     "data": {
      "image/png": "[encoded data removed]",
      "text/plain": [
       "<Figure size 432x288 with 1 Axes>"
      ]
     },
     "metadata": {
      "needs_background": "light"
     },
     "output_type": "display_data"
    }
   ],
   "source": [
    "plt.imshow(diff_image)"
   ]
  },
  {
   "cell_type": "code",
   "execution_count": null,
   "metadata": {},
   "outputs": [],
   "source": []
  }
 ],
 "metadata": {
  "kernelspec": {
   "display_name": "vibe-env",
   "language": "python",
   "name": "vibe-env"
  },
  "language_info": {
   "codemirror_mode": {
    "name": "ipython",
    "version": 3
   },
   "file_extension": ".py",
   "mimetype": "text/x-python",
   "name": "python",
   "nbconvert_exporter": "python",
   "pygments_lexer": "ipython3",
   "version": "3.7.11"
  }
 },
 "nbformat": 4,
 "nbformat_minor": 4
}
